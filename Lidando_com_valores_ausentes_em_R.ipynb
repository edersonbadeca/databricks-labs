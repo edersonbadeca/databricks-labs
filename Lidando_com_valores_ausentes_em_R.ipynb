{
  "nbformat": 4,
  "nbformat_minor": 0,
  "metadata": {
    "colab": {
      "provenance": [],
      "toc_visible": true,
      "authorship_tag": "ABX9TyMeik+5xOpkeWWPU0xo/0ur",
      "include_colab_link": true
    },
    "kernelspec": {
      "name": "python3",
      "display_name": "Python 3"
    },
    "language_info": {
      "name": "python"
    }
  },
  "cells": [
    {
      "cell_type": "markdown",
      "metadata": {
        "id": "view-in-github",
        "colab_type": "text"
      },
      "source": [
        "<a href=\"https://colab.research.google.com/github/edersonbadeca/databricks-labs/blob/main/Lidando_com_valores_ausentes_em_R.ipynb\" target=\"_parent\"><img src=\"https://colab.research.google.com/assets/colab-badge.svg\" alt=\"Open In Colab\"/></a>"
      ]
    },
    {
      "cell_type": "code",
      "execution_count": 2,
      "metadata": {
        "id": "4I5yEi6LYXvE"
      },
      "outputs": [],
      "source": [
        "!pip install rpy2 --quiet\n",
        "%load_ext rpy2.ipython"
      ]
    },
    {
      "cell_type": "code",
      "source": [
        "%%R\n",
        "vetor <- c(1,2,3,4,5)"
      ],
      "metadata": {
        "id": "-9g5okj2ZlKT"
      },
      "execution_count": 5,
      "outputs": []
    },
    {
      "cell_type": "code",
      "source": [],
      "metadata": {
        "id": "ux3bsJOJaTfP"
      },
      "execution_count": null,
      "outputs": []
    },
    {
      "cell_type": "code",
      "source": [
        "%%R\n",
        "valores_ausentes <- is.na(vetor)"
      ],
      "metadata": {
        "id": "6Cx-9Kv4Z3HS"
      },
      "execution_count": 6,
      "outputs": []
    },
    {
      "cell_type": "code",
      "source": [
        "%%R\n",
        "print(valores_ausentes)\n"
      ],
      "metadata": {
        "colab": {
          "base_uri": "https://localhost:8080/"
        },
        "id": "rk967an9ZsSA",
        "outputId": "524ffa77-3f11-42f1-aa6c-0eb64efed84f"
      },
      "execution_count": 7,
      "outputs": [
        {
          "output_type": "stream",
          "name": "stdout",
          "text": [
            "[1] FALSE FALSE FALSE FALSE FALSE\n"
          ]
        }
      ]
    },
    {
      "cell_type": "markdown",
      "source": [
        "# Identificação de valores ausentes em um data frame"
      ],
      "metadata": {
        "id": "1RdBj6b_aLK2"
      }
    },
    {
      "cell_type": "code",
      "source": [
        "%%R\n",
        "data_frame <- data.frame(\n",
        "    idade = c(25, 30, NA, 22),\n",
        "    salario = c(5000, 6000, 4500, NA)\n",
        ")\n",
        "valores_ausentes <- is.na(data_frame)"
      ],
      "metadata": {
        "id": "edba8MXPaWPJ"
      },
      "execution_count": 8,
      "outputs": []
    },
    {
      "cell_type": "code",
      "source": [
        "%%R\n",
        "print(valores_ausentes)\n"
      ],
      "metadata": {
        "colab": {
          "base_uri": "https://localhost:8080/"
        },
        "id": "cS5LAYFmamwC",
        "outputId": "cc37761d-b38b-4f75-efc6-be717dc5250c"
      },
      "execution_count": 9,
      "outputs": [
        {
          "output_type": "stream",
          "name": "stdout",
          "text": [
            "     idade salario\n",
            "[1,] FALSE   FALSE\n",
            "[2,] FALSE   FALSE\n",
            "[3,]  TRUE   FALSE\n",
            "[4,] FALSE    TRUE\n"
          ]
        }
      ]
    }
  ]
}